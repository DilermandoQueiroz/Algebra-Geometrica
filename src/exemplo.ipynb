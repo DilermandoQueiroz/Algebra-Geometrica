{
 "cells": [
  {
   "cell_type": "markdown",
   "metadata": {},
   "source": [
    "# iBP e Algebra Geométrica Conforme\n",
    "\n",
    "Usando a Algebra Geométrica Conforme, vamos ver como gerar árvore de busca do iBP, sem fazer amostragem."
   ]
  },
  {
   "cell_type": "code",
   "execution_count": 5,
   "metadata": {},
   "outputs": [],
   "source": [
    "from cowboy import *\n",
    "import math"
   ]
  },
  {
   "cell_type": "markdown",
   "metadata": {},
   "source": [
    "O ponto no modelo euclidiano pode ser representado por $$X_i = \\alpha_1 e_1 + \\alpha_2 e_2 + \\alpha_3 e_3,$$ onde $e_1, e_2, e_3$ são as bases do espaço Euclidiano, e os pontos $X_i$ representam o centro do atomo de uma molecula de proteina.\n",
    "\n",
    "Iremos utilizar o modelo conforme da Algebra Geométrica para representarmos as circufenrencias, planos e ponto.\n",
    "Nesse modelo os pontos são representados por $$x_i = e_0 + X_i + \\frac{1}{2}\\parallel X_i \\parallel^2e_{\\infty},$$ onde $X_i$ representa o ponto no modelo euclidiano. Assim teremos, $x_1, x_2, x_3, x_4$, os quatro primeiros pontos que representam o centro do quatro primeiros atomos da molecula. Para o primeiro ponto $x_1$ podemos fixar ele na origem do nosso sistema de coordenadas.\n"
   ]
  },
  {
   "cell_type": "code",
   "execution_count": 6,
   "metadata": {},
   "outputs": [],
   "source": [
    "e1 = MultiVetor([[1, 2**0]])\r\n",
    "e2 = MultiVetor([[1, 2**1]])\r\n",
    "e3 = MultiVetor([[1, 2**2]])\r\n",
    "emais = MultiVetor([[1, 2**3]])\r\n",
    "emenos = MultiVetor([[1, 2**4]])\r\n",
    "e0 = 0.5 * (emenos + emais)\r\n",
    "einf = emenos - emais"
   ]
  },
  {
   "cell_type": "code",
   "execution_count": 7,
   "metadata": {},
   "outputs": [],
   "source": [
    "def ponto_conforme(x):\r\n",
    "    x_conforme = e0 + x + 0.5*(x*x)*einf\r\n",
    "    return x_conforme"
   ]
  },
  {
   "cell_type": "code",
   "execution_count": 8,
   "metadata": {},
   "outputs": [],
   "source": [
    "# Modelo Euclidiano\r\n",
    "x2 = -1*e1\r\n",
    "x3 = -1.5*e1 + (math.sqrt(3)/2)*e2\r\n",
    "x4 = -1.311*e1 + 1.552*e2 + 0.702*e3\r\n",
    "\r\n",
    "# Modelo Conforme\r\n",
    "x1 = e0\r\n",
    "x2 = e0 + x2 + 0.5*(x2*x2)*einf\r\n",
    "x3 = e0 + x3 + 0.5*(x3*x3)*einf\r\n",
    "x4 = e0 + x4 + 0.5*(x4*x4)*einf"
   ]
  },
  {
   "cell_type": "markdown",
   "metadata": {},
   "source": [
    "Neste problema são conhecidas as distancias entre atomos que fazem ligação, entretanto as distancias entre atomos que não fazem ligações são fornenecidas pelo experimento de Ressonancia Magnetica Nuclear, onde geralmente essas distancias são imprecisas. Para o nosso exemplo temos as distancias $$d_{i-1, i} = 1, \\\\ d_{i-2, i} = \\sqrt{3}, \\\\ d_{1, 4} = 2.15, \\\\ d_{2, 5} \\in [2.2, 2.6], \\\\ d_{1, 5} \\in [2.45, 2.55]$$"
   ]
  },
  {
   "cell_type": "code",
   "execution_count": 9,
   "metadata": {},
   "outputs": [],
   "source": [
    "raio = {'i-1': 1, 'i-2': math.sqrt(3), '1,4': 2.15, '2,5': [2.2, 2.6], '1,5': [2.45, 2.55]}"
   ]
  },
  {
   "cell_type": "markdown",
   "metadata": {},
   "source": [
    "Uma esfera no $\\mathbb{R}^3$, centrada em C, e com raio r, pode ser representada no $\\mathbb{R}^{4,1}$ como:\n",
    "$$S = C - \\frac{r^2}{2}e_{\\infty} $$"
   ]
  },
  {
   "cell_type": "code",
   "execution_count": 10,
   "metadata": {},
   "outputs": [],
   "source": [
    "def esfera(x, raio):\r\n",
    "    #transforma para um ponto no modelo conforme\r\n",
    "    conforme = False\r\n",
    "    for blade in x.componentes:\r\n",
    "        if blade[1] == 2**4 or blade[1] == 2**3:\r\n",
    "           conforme = True \r\n",
    "\r\n",
    "    if not conforme:\r\n",
    "        x = e0 + x + 0.5*(x*x)*einf\r\n",
    "    \r\n",
    "    return x - (0.5*(raio**2)*einf)"
   ]
  },
  {
   "cell_type": "markdown",
   "metadata": {},
   "source": [
    "Para realizar a extração dos pontos iremos fazer o produto externo entre as esferas $S_{i-1}, S_{i-2}, S_{i-3}$. Assim temos que o par de pontos pode ser obtido por: $$pp = S_{i-1} \\wedge S_{i-2} \\wedge S_{i-3},$$ e o seu dual por: \r\n",
    "$$pp^{*} = S_{i-1} \\wedge S_{i-2} \\wedge S_{i-3} \\rfloor (-1)\\cdot(e_0 \\wedge e_1 \\wedge e_2 \\wedge e_3 \\wedge e_{\\infty})$$\r\n",
    "e a extração do ponto é feita por:\r\n",
    "$$x_i = \\frac{\\sqrt{|pp^* \\rfloor pp^*|} + pp^*}{(-1)\\cdot(e_\\infty \\rfloor pp^*)}$$\r\n",
    "caso $\\Delta = pp^* \\rfloor pp^* < 0$ não temos a intersecção dessas esferas, caso $\\Delta = 0$ a esfera intersecta em um ponto e caso $\\Delta > 0$ ela intersecta em mais de um ponto"
   ]
  },
  {
   "cell_type": "code",
   "execution_count": 11,
   "metadata": {},
   "outputs": [],
   "source": [
    "def analise(mult):\r\n",
    "    mult_new = list()\r\n",
    "    soma = 0\r\n",
    "\r\n",
    "    for blade in mult.componentes:\r\n",
    "        if abs(blade[0]) > 0.0000001:\r\n",
    "            mult_new.append(blade)\r\n",
    "        if blade[1] == 2**3:\r\n",
    "            soma = soma + blade[0]\r\n",
    "        elif blade[1] == 2**4:\r\n",
    "            soma = soma + blade[0]\r\n",
    "\r\n",
    "    mult_new = MultiVetor(mult_new)\r\n",
    "\r\n",
    "    mult_new = (1/soma)*mult_new\r\n",
    "\r\n",
    "    return mult_new\r\n",
    "\r\n",
    "def extracao_ponto(s1, s2, s3):\r\n",
    "    i = e0^e1^e2^e3^einf\r\n",
    "    pp = s1^s2^s3\r\n",
    "    dualpp = pp<<(-1*i)\r\n",
    "\r\n",
    "    # EXTRACAO\r\n",
    "    x4_a = (1*math.sqrt(float(abs(dualpp<<dualpp))) + dualpp) / -1*(einf<<dualpp)\r\n",
    "    x4_b = (-1*math.sqrt(float(abs(dualpp<<dualpp))) + dualpp) / -1*(einf<<dualpp)\r\n",
    "\r\n",
    "    return analise(x4_a), analise(x4_b)"
   ]
  },
  {
   "cell_type": "code",
   "execution_count": 12,
   "metadata": {},
   "outputs": [
    {
     "name": "stdout",
     "output_type": "stream",
     "text": [
      "a = -1.5008576783864445*e1 + 1.350504449056432*e2 + 1.66291290183224*e3 - 2.9208576783864446*e4 + 3.9208576783864446*e5 \n",
      "b = -0.409066047772618*e1 + 1.980850640890306*e2 + 0.7530124850156146*e3 - 1.8290660477726186*e4 + 2.829066047772619*e5 \n",
      "\n",
      "c = -2.045056613979804*e1 + 2.1448235639429822*e2 + 1.0332417689640665*e3 - 4.425056613979805*e4 + 5.425056613979804*e5 \n",
      "d = -1.3863948809680542*e1 + 2.525102092802222*e2 + 0.4843123133759116*e3 - 3.7663948809680554*e4 + 4.766394880968055*e5\n"
     ]
    }
   ],
   "source": [
    "a, b = extracao_ponto(esfera(x2, raio['2,5'][0]), esfera(x3, raio['i-2']), esfera(x4, raio['i-1']))\r\n",
    "print(f'a = {a} \\nb = {b} \\n')\r\n",
    "\r\n",
    "c, d = extracao_ponto(esfera(x2, raio['2,5'][1]), esfera(x3, raio['i-2']), esfera(x4, raio['i-1']))\r\n",
    "print(f'c = {c} \\nd = {d}')"
   ]
  },
  {
   "cell_type": "code",
   "execution_count": 13,
   "metadata": {},
   "outputs": [
    {
     "name": "stdout",
     "output_type": "stream",
     "text": [
      " X_5(1.453) = -0.4545103617082674*e1 + 1.5184688468969887*e2 + 1.217073937673492*e3 - 1.496798138830456*e4 + 2.496798138830456*e5 \n",
      " X_5(-1.453) = -0.8567679105762847*e1 + 1.2862253427744788*e2 + 1.5523158475028107*e3 - 1.8990556876984739*e4 + 2.899055687698474*e5\n"
     ]
    }
   ],
   "source": [
    "z = (x3^x4^einf)<<(-1*(e0^e1^e2^e3^einf))\r\n",
    "\r\n",
    "r = rotor(z, 1.453)\r\n",
    "x5_a = r*a*inverso(r)\r\n",
    "\r\n",
    "r = rotor(z, -1.453)\r\n",
    "x5_b = r*b*inverso(r)\r\n",
    "\r\n",
    "print(f\" X_5(1.453) = {analise(x5_a)} \\n X_5(-1.453) = {analise(x5_b)}\")"
   ]
  },
  {
   "cell_type": "markdown",
   "metadata": {},
   "source": [
    "Assim nos temos os dois rotores associado aos arcos de possiveis soluções para $X_{5}$, como nos sabemos a distancia de $d_{1, 5} \\in [2.45, 2.55]$, nos podemos fazer a extração dos pontos: $$pp = S_{1, 5} \\wedge S_{3} \\wedge S_{4},$$ onde $S_{1, 5}$ é a esfera de centro $X_{1}$ e raio $d_{1, 5} \\in [2.45, 2.55]$, como nos temos um intervalo de distancia, iremos pegar os extremos desse invervalo assim temos $\\underline{d_{1,5}} = min(d_{1, 5})$ e $\\overline{d_{1,5}}  = max(d_{1, 5})$"
   ]
  },
  {
   "cell_type": "code",
   "execution_count": 14,
   "metadata": {},
   "outputs": [
    {
     "name": "stdout",
     "output_type": "stream",
     "text": [
      "A_a = -1.2599837919047157*e1 + 1.283189046518469*e2 + 1.6638409524448043*e3 - 2.5012499999999998*e4 + 3.5012499999999998*e5 \n",
      "A_b = -0.6735069215271265*e1 + 2.29899678347644*e2 + 0.5133246694052717*e3 - 2.5012499999999998*e4 + 3.5012499999999998*e5\n",
      "\n",
      "A_c = -1.4066508602468961*e1 + 1.3178293669474492*e2 + 1.6694786961736159*e3 - 2.7512500000000006*e4 + 3.7512500000000006*e5 \n",
      "A_d = -0.7952701420775019*e1 + 2.376771833584789*e2 + 0.4701074900467275*e3 - 2.7512500000000006*e4 + 3.7512500000000006*e5\n",
      "\n"
     ]
    }
   ],
   "source": [
    "A_a, A_b = extracao_ponto(esfera(x3, raio['i-2']), esfera(x4, raio['i-1']), esfera(x1, raio['1,5'][0]))\r\n",
    "A_c, A_d = extracao_ponto(esfera(x3, raio['i-2']), esfera(x4, raio['i-1']), esfera(x1, raio['1,5'][1]))\r\n",
    "\r\n",
    "print(f'A_a = {analise(A_a)} \\nA_b = {analise(A_b)}\\n')\r\n",
    "print(f'A_c = {analise(A_c)} \\nA_d = {analise(A_d)}\\n')"
   ]
  },
  {
   "cell_type": "markdown",
   "metadata": {},
   "source": [
    "Com os pontos $\\overline{A_{5}^{0}}, \\overline{A_{5}^{1}}, \\underline{A_{5}^{0}}$ e $\\underline{A_{5}^{1}}$ nos vamos definir o circulo orientado $C_5 = \\underline{P_{5}^{0}} \\wedge \\overline{P_{5}^{0}} \\wedge \\overline{P_{5}^{1}}$"
   ]
  },
  {
   "cell_type": "code",
   "execution_count": 15,
   "metadata": {},
   "outputs": [],
   "source": [
    "c_5 = b ^ d ^ c"
   ]
  },
  {
   "cell_type": "markdown",
   "metadata": {},
   "source": [
    "Agora que conhecemos o circulo orientado $C_5$ iremos realizar os testes com os pontos $\\overline{A_{5}^{0}}, \\overline{A_{5}^{1}}, \\underline{A_{5}^{0}}$ e $\\underline{A_{5}^{1}}$"
   ]
  },
  {
   "cell_type": "code",
   "execution_count": 16,
   "metadata": {},
   "outputs": [
    {
     "name": "stdout",
     "output_type": "stream",
     "text": [
      "t_1 = 0.4658739544793128\n",
      "t_2 = 0.5292072252795651\n"
     ]
    }
   ],
   "source": [
    "t_1 = (A_b ^ d ^ c)*c_5\r\n",
    "t_2 = (b ^ A_b ^ c)*c_5\r\n",
    "\r\n",
    "print(f't_1 = {t_1.componentes[0][0]}\\nt_2 = {t_2.componentes[0][0]}')\r\n"
   ]
  },
  {
   "cell_type": "code",
   "execution_count": 17,
   "metadata": {},
   "outputs": [
    {
     "name": "stdout",
     "output_type": "stream",
     "text": [
      "t_1 = 0.9606152391297955\n",
      "t_2 = -1.4207219163349207\n"
     ]
    }
   ],
   "source": [
    "t_1 = (A_a ^ d ^ c)*c_5\r\n",
    "t_2 = (b ^ A_a ^ c)*c_5\r\n",
    "\r\n",
    "print(f't_1 = {t_1.componentes[0][0]}\\nt_2 = {t_2.componentes[0][0]}')"
   ]
  },
  {
   "cell_type": "code",
   "execution_count": 18,
   "metadata": {},
   "outputs": [
    {
     "name": "stdout",
     "output_type": "stream",
     "text": [
      "t_1 = 0.3576957257906014\n",
      "t_2 = 0.6481909103694247\n"
     ]
    }
   ],
   "source": [
    "t_1 = (A_d ^ d ^ c)*c_5\r\n",
    "t_2 = (b ^ A_d ^ c)*c_5\r\n",
    "\r\n",
    "print(f't_1 = {t_1.componentes[0][0]}\\nt_2 = {t_2.componentes[0][0]}')"
   ]
  },
  {
   "cell_type": "code",
   "execution_count": 19,
   "metadata": {},
   "outputs": [
    {
     "name": "stdout",
     "output_type": "stream",
     "text": [
      "t_1 = 0.8734454461894969\n",
      "t_2 = -1.3845390048140116\n"
     ]
    }
   ],
   "source": [
    "t_1 = (A_c ^ d ^ c)*c_5\r\n",
    "t_2 = (b ^ A_c ^ c)*c_5\r\n",
    "\r\n",
    "print(f't_1 = {t_1.componentes[0][0]}\\nt_2 = {t_2.componentes[0][0]}')"
   ]
  },
  {
   "cell_type": "markdown",
   "metadata": {},
   "source": [
    "Como o resultado para os arcos $\\underline{P_{5}^{1}}, \\overline{P_{5}^{1}}$ deram ambos $t_1$ e $t_2$ de $\\overline{A_{5}^{1}}, \\underline{A_{5}^{1}}$ deram positivo e negativo, isso significa que eles não intersectam o arco $\\underline{P_{5}^{1}}, \\overline{P_{5}^{1}}$. Entretanto, como $t_1$ e $t_2$ de $\\overline{A_{5}^{0}}, \\underline{A_{5}^{0}}$ deram ambos postivos o arco $\\underline{P_{5}^{0}}, \\overline{P_{5}^{0}}$ é reduzido para o arco $\\underline{A_{5}^{0}}, \\overline{A_{5}^{0}}$ com eixo de rotação definido por $$z_5 = ((\\underline{A_{5}^{0}} \\wedge \\overline{A_{5}^{0}} \\wedge \\underline{P_{5}^{0}})^{*} \\wedge e_{\\infty})^{*}$$"
   ]
  },
  {
   "cell_type": "code",
   "execution_count": 20,
   "metadata": {},
   "outputs": [],
   "source": [
    "z_5 = dual(dual(A_b ^ A_d ^ b) ^ einf)"
   ]
  }
 ],
 "metadata": {
  "interpreter": {
   "hash": "f42f6da4060f7b9d67d768b4f47ebcfa835e84340634dd38750db8e4dbc22fe8"
  },
  "kernelspec": {
   "display_name": "Python 3.7.9 64-bit",
   "name": "python3"
  },
  "language_info": {
   "codemirror_mode": {
    "name": "ipython",
    "version": 3
   },
   "file_extension": ".py",
   "mimetype": "text/x-python",
   "name": "python",
   "nbconvert_exporter": "python",
   "pygments_lexer": "ipython3",
   "version": "3.7.9"
  },
  "metadata": {
   "interpreter": {
    "hash": "f42f6da4060f7b9d67d768b4f47ebcfa835e84340634dd38750db8e4dbc22fe8"
   }
  },
  "orig_nbformat": 2
 },
 "nbformat": 4,
 "nbformat_minor": 2
}